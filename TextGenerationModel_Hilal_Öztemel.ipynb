{
  "cells": [
    {
      "cell_type": "markdown",
      "metadata": {
        "id": "view-in-github",
        "colab_type": "text"
      },
      "source": [
        "<a href=\"https://colab.research.google.com/github/HILALOZTEMEL/Text-Generation-Model/blob/main/TextGenerationModel_Hilal_%C3%96ztemel.ipynb\" target=\"_parent\"><img src=\"https://colab.research.google.com/assets/colab-badge.svg\" alt=\"Open In Colab\"/></a>"
      ]
    },
    {
      "cell_type": "code",
      "execution_count": null,
      "metadata": {
        "colab": {
          "base_uri": "https://localhost:8080/"
        },
        "id": "ETnWm9leGz9-",
        "outputId": "10123c4b-291b-4633-fc1b-6ed26980c4d7"
      },
      "outputs": [
        {
          "output_type": "stream",
          "name": "stdout",
          "text": [
            "Mounted at /gdrive\n",
            "/gdrive\n"
          ]
        }
      ],
      "source": [
        "# keras module for building LSTM \n",
        "from keras.preprocessing.sequence import pad_sequences\n",
        "from keras.layers import Embedding, LSTM, Dense, Dropout\n",
        "from keras.preprocessing.text import Tokenizer\n",
        "from keras.callbacks import EarlyStopping\n",
        "from keras.models import Sequential\n",
        "from keras.utils import np_utils\n",
        "\n",
        "# set seeds for reproducability\n",
        "\n",
        "import tensorflow as tf\n",
        "from numpy.random import seed\n",
        "tf.random.set_seed(2) \n",
        "seed(1)\n",
        "\n",
        "\n",
        "import pandas as pd\n",
        "import numpy as np\n",
        "import string, os \n",
        "\n",
        "\n",
        "#kimlik doğrulama işlemi :drive in içinde çalışma ortamı sağlarız serverlarda\n",
        "from google.colab import drive\n",
        "drive.mount('/gdrive')\n",
        "%cd /gdrive\n",
        "\n",
        "#Uyarı için , ignore : eşleşen uyarıları asla yazdırma demek.\n",
        "import warnings\n",
        "warnings.filterwarnings(\"ignore\")\n",
        "warnings.simplefilter(action='ignore', category=FutureWarning)"
      ]
    },
    {
      "cell_type": "code",
      "execution_count": null,
      "metadata": {
        "colab": {
          "base_uri": "https://localhost:8080/"
        },
        "id": "UTtEMWkKG4wS",
        "outputId": "a7142822-d848-42a2-c10c-90afddb97303"
      },
      "outputs": [
        {
          "output_type": "execute_result",
          "data": {
            "text/plain": [
              "831"
            ]
          },
          "metadata": {},
          "execution_count": 2
        }
      ],
      "source": [
        "curr_dir = '/gdrive/My Drive/İstanbul Gedik Üniversitesi/natural language preccesing/Dataset/' #veri seti okunur \n",
        "all_headlines = [] #veri setinde çok fazla başlık olduğu için bunu bir listede tutarız.\n",
        "for filename in os.listdir(curr_dir):\n",
        "    if 'Articles' in filename:\n",
        "        article_df = pd.read_csv(curr_dir + filename)\n",
        "        all_headlines.extend(list(article_df.headline.values))\n",
        "        break\n",
        "\n",
        "all_headlines = [h for h in all_headlines if h != \"Unknown\"]\n",
        "len(all_headlines)"
      ]
    },
    {
      "cell_type": "code",
      "execution_count": null,
      "metadata": {
        "colab": {
          "base_uri": "https://localhost:8080/"
        },
        "id": "3U6P9j41G7Ll",
        "outputId": "e62e55c3-a4e4-405e-de37-a8277bc5de1b"
      },
      "outputs": [
        {
          "output_type": "execute_result",
          "data": {
            "text/plain": [
              "['finding an expansive view  of a forgotten people in niger',\n",
              " 'and now  the dreaded trump curse',\n",
              " 'venezuelas descent into dictatorship',\n",
              " 'stain permeates basketball blue blood',\n",
              " 'taking things for granted',\n",
              " 'the caged beast awakens',\n",
              " 'an everunfolding story',\n",
              " 'oreilly thrives as settlements add up',\n",
              " 'mouse infestation',\n",
              " 'divide in gop now threatens trump tax plan']"
            ]
          },
          "metadata": {},
          "execution_count": 3
        }
      ],
      "source": [
        "#Veri seti hazırlama adımında, ilk olarak tüm kelimelerin noktalama işaretlerinin kaldırılması ve küçük büyük harf kullanımı içeren verilerin metin temizliğini gerçekleştirilir.\n",
        "def clean_text(txt):\n",
        "    txt = \"\".join(v for v in txt if v not in string.punctuation).lower()\n",
        "    txt = txt.encode(\"utf8\").decode(\"ascii\",'ignore')\n",
        "    return txt \n",
        "\n",
        "corpus = [clean_text(x) for x in all_headlines]\n",
        "corpus[:10]"
      ]
    },
    {
      "cell_type": "code",
      "execution_count": null,
      "metadata": {
        "colab": {
          "base_uri": "https://localhost:8080/"
        },
        "id": "gDUGvWr_G9xq",
        "outputId": "7ce8f8da-f2c8-4b0e-858f-ad89dd5b0ad1"
      },
      "outputs": [
        {
          "output_type": "execute_result",
          "data": {
            "text/plain": [
              "[[169, 17],\n",
              " [169, 17, 665],\n",
              " [169, 17, 665, 367],\n",
              " [169, 17, 665, 367, 4],\n",
              " [169, 17, 665, 367, 4, 2],\n",
              " [169, 17, 665, 367, 4, 2, 666],\n",
              " [169, 17, 665, 367, 4, 2, 666, 170],\n",
              " [169, 17, 665, 367, 4, 2, 666, 170, 5],\n",
              " [169, 17, 665, 367, 4, 2, 666, 170, 5, 667],\n",
              " [6, 80]]"
            ]
          },
          "metadata": {},
          "execution_count": 4
        }
      ],
      "source": [
        "tokenizer = Tokenizer() #Veri ön işleme için Tokenizer Algoritmanın başarısını etkilyen zaruri bir ön adımdır\n",
        "\n",
        "#Dil modellemesi, bir dizi (kelimeler/belirteçler) verildiği gibi bir dizi giriş verisi gerektirir, amaç bir sonraki sözcük/belirteç tahminidir.\n",
        "#Verildiği gibi bir dizi giriş verisi gerektirir, amaç bir sonraki sözcük/belirteç tahminidir.Bir sonraki adım Tokenizasyon. \n",
        " #Belirteçleştirme, bir derlemden belirteçleri (terimler/kelimeler) çıkarma işlemidir. Python'un Keras kütüphanesi,\n",
        " #belirteçleri ve bunların derlemdeki dizinlerini elde etmek için kullanılabilecek yerleşik belirteçleştirme modeline sahiptir. \n",
        " #Bu adımdan sonra, veri kümesindeki her metin belgesi belirteç dizisine dönüştürülür.\n",
        "\n",
        "def get_sequence_of_tokens(corpus):\n",
        "    ## tokenization\n",
        "    tokenizer.fit_on_texts(corpus)\n",
        "    total_words = len(tokenizer.word_index) + 1\n",
        "    \n",
        "    ## convert data to sequence of tokens \n",
        "    input_sequences = []\n",
        "    for line in corpus:\n",
        "        token_list = tokenizer.texts_to_sequences([line])[0]\n",
        "        for i in range(1, len(token_list)):\n",
        "            n_gram_sequence = token_list[:i+1]\n",
        "            input_sequences.append(n_gram_sequence)\n",
        "    return input_sequences, total_words\n",
        "\n",
        "inp_sequences, total_words = get_sequence_of_tokens(corpus)\n",
        "inp_sequences[:10]"
      ]
    },
    {
      "cell_type": "markdown",
      "source": [
        "Yukarıdaki çıktıda [30, 507], [30, 507, 11], [30, 507, 11, 1] vb. giriş verilerinden üretilen ngram ifadelerini temsil eder. burada her tamsayı, metinde bulunan kelimelerin tam kelime dağarcığındaki belirli bir indeksine karşılık gelir. Örneğin"
      ],
      "metadata": {
        "id": "DPNz8-WbU6JX"
      }
    },
    {
      "cell_type": "markdown",
      "source": [
        "![image.png](data:image/png;base64,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)"
      ],
      "metadata": {
        "id": "zFf-ya2HU9sd"
      }
    },
    {
      "cell_type": "markdown",
      "source": [
        " Bu verileri bir öğrenme modeline girmek için tahmin ediciler oluşturmamız ve etiketlememiz gerekiyor. N-gram dizisini öngörücü olarak ve N-gramın bir sonraki kelimesini etiket olarak oluşturacağız. Örneğin:"
      ],
      "metadata": {
        "id": "oF23hoT4Vdu_"
      }
    },
    {
      "cell_type": "markdown",
      "source": [
        "![image.png](data:image/png;base64,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)"
      ],
      "metadata": {
        "id": "ZEZk08alVksG"
      }
    },
    {
      "cell_type": "markdown",
      "source": [
        "model eğitimi için  X girdi vektörünü ve Y etiket vektörünü elde edebiliriz. Son deneyler, tekrarlayan sinir ağlarının, öğrenme ve metin veri uygulamalarını sıralamak için sırayla iyi bir performans gösterdiğini göstermiştir."
      ],
      "metadata": {
        "id": "AoJ6hYMNVqgf"
      }
    },
    {
      "cell_type": "code",
      "execution_count": null,
      "metadata": {
        "id": "gWRXcw7eHAlp"
      },
      "outputs": [],
      "source": [
        "def generate_padded_sequences(input_sequences):\n",
        "    max_sequence_len = max([len(x) for x in input_sequences]) #girilen inputun maximum değeri alınır.\n",
        "    input_sequences = np.array(pad_sequences(input_sequences, maxlen=max_sequence_len, padding='pre'))\n",
        "    \n",
        "    predictors, label = input_sequences[:,:-1],input_sequences[:,-1] #tahmin ve etiketlere ayrılır.\n",
        "    label = np_utils.to_categorical(label, num_classes=total_words) #etiketler kategorik verilere çevrilir.\n",
        "    return predictors, label, max_sequence_len\n",
        "\n",
        "predictors, label, max_sequence_len = generate_padded_sequences(inp_sequences)"
      ]
    },
    {
      "cell_type": "code",
      "execution_count": null,
      "metadata": {
        "colab": {
          "base_uri": "https://localhost:8080/"
        },
        "id": "zya9rXqkHEqq",
        "outputId": "3336579d-6966-4b54-b272-4145f19aecaf"
      },
      "outputs": [
        {
          "output_type": "stream",
          "name": "stdout",
          "text": [
            "Model: \"sequential\"\n",
            "_________________________________________________________________\n",
            " Layer (type)                Output Shape              Param #   \n",
            "=================================================================\n",
            " embedding (Embedding)       (None, 18, 10)            24220     \n",
            "                                                                 \n",
            " lstm (LSTM)                 (None, 100)               44400     \n",
            "                                                                 \n",
            " dropout (Dropout)           (None, 100)               0         \n",
            "                                                                 \n",
            " dense (Dense)               (None, 2422)              244622    \n",
            "                                                                 \n",
            "=================================================================\n",
            "Total params: 313,242\n",
            "Trainable params: 313,242\n",
            "Non-trainable params: 0\n",
            "_________________________________________________________________\n"
          ]
        }
      ],
      "source": [
        "def create_model(max_sequence_len, total_words):#model oluşturulur\n",
        "    input_len = max_sequence_len - 1\n",
        "    model = Sequential()\n",
        "    \n",
        "    # Add Input Embedding Layer\n",
        "    model.add(Embedding(total_words, 10, input_length=input_len))\n",
        "    \n",
        "    # Add Hidden Layer 1 - LSTM Layer\n",
        "    model.add(LSTM(100))\n",
        "    model.add(Dropout(0.1))\n",
        "    \n",
        "    # Add Output Layer\n",
        "    model.add(Dense(total_words, activation='softmax'))\n",
        "    \n",
        "\n",
        "    model.compile(loss='categorical_crossentropy', optimizer='adam',metrics=['accuracy'])\n",
        "    \n",
        "    return model\n",
        "\n",
        "model = create_model(max_sequence_len, total_words)\n",
        "model.summary()"
      ]
    },
    {
      "cell_type": "code",
      "execution_count": null,
      "metadata": {
        "colab": {
          "base_uri": "https://localhost:8080/"
        },
        "id": "l2xejYCAHKAQ",
        "outputId": "dc8d1d47-e7dd-4a2d-9005-65983cf83995"
      },
      "outputs": [
        {
          "output_type": "stream",
          "name": "stdout",
          "text": [
            "Epoch 1/300\n",
            "Epoch 2/300\n",
            "Epoch 3/300\n",
            "Epoch 4/300\n",
            "Epoch 5/300\n",
            "Epoch 6/300\n",
            "Epoch 7/300\n",
            "Epoch 8/300\n",
            "Epoch 9/300\n",
            "Epoch 10/300\n",
            "Epoch 11/300\n",
            "Epoch 12/300\n",
            "Epoch 13/300\n",
            "Epoch 14/300\n",
            "Epoch 15/300\n",
            "Epoch 16/300\n",
            "Epoch 17/300\n",
            "Epoch 18/300\n",
            "Epoch 19/300\n",
            "Epoch 20/300\n",
            "Epoch 21/300\n",
            "Epoch 22/300\n",
            "Epoch 23/300\n",
            "Epoch 24/300\n",
            "Epoch 25/300\n",
            "Epoch 26/300\n",
            "Epoch 27/300\n",
            "Epoch 28/300\n",
            "Epoch 29/300\n",
            "Epoch 30/300\n",
            "Epoch 31/300\n",
            "Epoch 32/300\n",
            "Epoch 33/300\n",
            "Epoch 34/300\n",
            "Epoch 35/300\n",
            "Epoch 36/300\n",
            "Epoch 37/300\n",
            "Epoch 38/300\n",
            "Epoch 39/300\n",
            "Epoch 40/300\n",
            "Epoch 41/300\n",
            "Epoch 42/300\n",
            "Epoch 43/300\n",
            "Epoch 44/300\n",
            "Epoch 45/300\n",
            "Epoch 46/300\n",
            "Epoch 47/300\n",
            "Epoch 48/300\n",
            "Epoch 49/300\n",
            "Epoch 50/300\n",
            "Epoch 51/300\n",
            "Epoch 52/300\n",
            "Epoch 53/300\n",
            "Epoch 54/300\n",
            "Epoch 55/300\n",
            "Epoch 56/300\n",
            "Epoch 57/300\n",
            "Epoch 58/300\n",
            "Epoch 59/300\n",
            "Epoch 60/300\n",
            "Epoch 61/300\n",
            "Epoch 62/300\n",
            "Epoch 63/300\n",
            "Epoch 64/300\n",
            "Epoch 65/300\n",
            "Epoch 66/300\n",
            "Epoch 67/300\n",
            "Epoch 68/300\n",
            "Epoch 69/300\n",
            "Epoch 70/300\n",
            "Epoch 71/300\n",
            "Epoch 72/300\n",
            "Epoch 73/300\n",
            "Epoch 74/300\n",
            "Epoch 75/300\n",
            "Epoch 76/300\n",
            "Epoch 77/300\n",
            "Epoch 78/300\n",
            "Epoch 79/300\n",
            "Epoch 80/300\n",
            "Epoch 81/300\n",
            "Epoch 82/300\n",
            "Epoch 83/300\n",
            "Epoch 84/300\n",
            "Epoch 85/300\n",
            "Epoch 86/300\n",
            "Epoch 87/300\n",
            "Epoch 88/300\n",
            "Epoch 89/300\n",
            "Epoch 90/300\n",
            "Epoch 91/300\n",
            "Epoch 92/300\n",
            "Epoch 93/300\n",
            "Epoch 94/300\n",
            "Epoch 95/300\n",
            "Epoch 96/300\n",
            "Epoch 97/300\n",
            "Epoch 98/300\n",
            "Epoch 99/300\n",
            "Epoch 100/300\n",
            "Epoch 101/300\n",
            "Epoch 102/300\n",
            "Epoch 103/300\n",
            "Epoch 104/300\n",
            "Epoch 105/300\n",
            "Epoch 106/300\n",
            "Epoch 107/300\n",
            "Epoch 108/300\n",
            "Epoch 109/300\n",
            "Epoch 110/300\n",
            "Epoch 111/300\n",
            "Epoch 112/300\n",
            "Epoch 113/300\n",
            "Epoch 114/300\n",
            "Epoch 115/300\n",
            "Epoch 116/300\n",
            "Epoch 117/300\n",
            "Epoch 118/300\n",
            "Epoch 119/300\n",
            "Epoch 120/300\n",
            "Epoch 121/300\n",
            "Epoch 122/300\n",
            "Epoch 123/300\n",
            "Epoch 124/300\n",
            "Epoch 125/300\n",
            "Epoch 126/300\n",
            "Epoch 127/300\n",
            "Epoch 128/300\n",
            "Epoch 129/300\n",
            "Epoch 130/300\n",
            "Epoch 131/300\n",
            "Epoch 132/300\n",
            "Epoch 133/300\n",
            "Epoch 134/300\n",
            "Epoch 135/300\n",
            "Epoch 136/300\n",
            "Epoch 137/300\n",
            "Epoch 138/300\n",
            "Epoch 139/300\n",
            "Epoch 140/300\n",
            "Epoch 141/300\n",
            "Epoch 142/300\n",
            "Epoch 143/300\n",
            "Epoch 144/300\n",
            "Epoch 145/300\n",
            "Epoch 146/300\n",
            "Epoch 147/300\n",
            "Epoch 148/300\n",
            "Epoch 149/300\n",
            "Epoch 150/300\n",
            "Epoch 151/300\n",
            "Epoch 152/300\n",
            "Epoch 153/300\n",
            "Epoch 154/300\n",
            "Epoch 155/300\n",
            "Epoch 156/300\n",
            "Epoch 157/300\n",
            "Epoch 158/300\n",
            "Epoch 159/300\n",
            "Epoch 160/300\n",
            "Epoch 161/300\n",
            "Epoch 162/300\n",
            "Epoch 163/300\n",
            "Epoch 164/300\n",
            "Epoch 165/300\n",
            "Epoch 166/300\n",
            "Epoch 167/300\n",
            "Epoch 168/300\n",
            "Epoch 169/300\n",
            "Epoch 170/300\n",
            "Epoch 171/300\n",
            "Epoch 172/300\n",
            "Epoch 173/300\n",
            "Epoch 174/300\n",
            "Epoch 175/300\n",
            "Epoch 176/300\n",
            "Epoch 177/300\n",
            "Epoch 178/300\n",
            "Epoch 179/300\n",
            "Epoch 180/300\n",
            "Epoch 181/300\n",
            "Epoch 182/300\n",
            "Epoch 183/300\n",
            "Epoch 184/300\n",
            "Epoch 185/300\n",
            "Epoch 186/300\n",
            "Epoch 187/300\n",
            "Epoch 188/300\n",
            "Epoch 189/300\n",
            "Epoch 190/300\n",
            "Epoch 191/300\n",
            "Epoch 192/300\n",
            "Epoch 193/300\n",
            "Epoch 194/300\n",
            "Epoch 195/300\n",
            "Epoch 196/300\n",
            "Epoch 197/300\n",
            "Epoch 198/300\n",
            "Epoch 199/300\n",
            "Epoch 200/300\n",
            "Epoch 201/300\n",
            "Epoch 202/300\n",
            "Epoch 203/300\n",
            "Epoch 204/300\n",
            "Epoch 205/300\n",
            "Epoch 206/300\n",
            "Epoch 207/300\n",
            "Epoch 208/300\n",
            "Epoch 209/300\n",
            "Epoch 210/300\n",
            "Epoch 211/300\n",
            "Epoch 212/300\n",
            "Epoch 213/300\n",
            "Epoch 214/300\n",
            "Epoch 215/300\n",
            "Epoch 216/300\n",
            "Epoch 217/300\n",
            "Epoch 218/300\n",
            "Epoch 219/300\n",
            "Epoch 220/300\n",
            "Epoch 221/300\n",
            "Epoch 222/300\n",
            "Epoch 223/300\n",
            "Epoch 224/300\n",
            "Epoch 225/300\n",
            "Epoch 226/300\n",
            "Epoch 227/300\n",
            "Epoch 228/300\n",
            "Epoch 229/300\n",
            "Epoch 230/300\n",
            "Epoch 231/300\n",
            "Epoch 232/300\n",
            "Epoch 233/300\n",
            "Epoch 234/300\n",
            "Epoch 235/300\n",
            "Epoch 236/300\n",
            "Epoch 237/300\n",
            "Epoch 238/300\n",
            "Epoch 239/300\n",
            "Epoch 240/300\n",
            "Epoch 241/300\n",
            "Epoch 242/300\n",
            "Epoch 243/300\n",
            "Epoch 244/300\n",
            "Epoch 245/300\n",
            "Epoch 246/300\n",
            "Epoch 247/300\n",
            "Epoch 248/300\n",
            "Epoch 249/300\n",
            "Epoch 250/300\n",
            "Epoch 251/300\n",
            "Epoch 252/300\n",
            "Epoch 253/300\n",
            "Epoch 254/300\n",
            "Epoch 255/300\n",
            "Epoch 256/300\n",
            "Epoch 257/300\n",
            "Epoch 258/300\n",
            "Epoch 259/300\n",
            "Epoch 260/300\n",
            "Epoch 261/300\n",
            "Epoch 262/300\n",
            "Epoch 263/300\n",
            "Epoch 264/300\n",
            "Epoch 265/300\n",
            "Epoch 266/300\n",
            "Epoch 267/300\n",
            "Epoch 268/300\n",
            "Epoch 269/300\n",
            "Epoch 270/300\n",
            "Epoch 271/300\n",
            "Epoch 272/300\n",
            "Epoch 273/300\n",
            "Epoch 274/300\n",
            "Epoch 275/300\n",
            "Epoch 276/300\n",
            "Epoch 277/300\n",
            "Epoch 278/300\n",
            "Epoch 279/300\n",
            "Epoch 280/300\n",
            "Epoch 281/300\n",
            "Epoch 282/300\n",
            "Epoch 283/300\n",
            "Epoch 284/300\n",
            "Epoch 285/300\n",
            "Epoch 286/300\n",
            "Epoch 287/300\n",
            "Epoch 288/300\n",
            "Epoch 289/300\n",
            "Epoch 290/300\n",
            "Epoch 291/300\n",
            "Epoch 292/300\n",
            "Epoch 293/300\n",
            "Epoch 294/300\n",
            "Epoch 295/300\n",
            "Epoch 296/300\n",
            "Epoch 297/300\n",
            "Epoch 298/300\n",
            "Epoch 299/300\n",
            "Epoch 300/300\n",
            "Accuracy: 91.97%\n"
          ]
        }
      ],
      "source": [
        "history=model.fit(predictors, label, epochs=300, verbose=5)\n",
        "# Final evaluation of the model\n",
        "scores = model.evaluate(predictors, label, verbose=5)\n",
        "print(\"Accuracy: %.2f%%\" % (scores[1]*100))"
      ]
    },
    {
      "cell_type": "code",
      "execution_count": null,
      "metadata": {
        "id": "ZP0pPmSxHK2q",
        "colab": {
          "base_uri": "https://localhost:8080/"
        },
        "outputId": "b7fa0912-dd40-4b28-db0a-d2b52668eac7"
      },
      "outputs": [
        {
          "output_type": "stream",
          "name": "stdout",
          "text": [
            "United States Logos At Own Risk Control\n",
            "President Trump Stolen Philosophys Critical Tools\n",
            "Donald Trump As Be Tomboys May\n",
            "India And China Players On The Finale\n",
            "New York Today A Holocaust Survivors\n",
            "Science And Technology King Came Out Against Vietnam\n"
          ]
        }
      ],
      "source": [
        "def generate_text(seed_text, next_words, model, max_sequence_len):\n",
        "    for _ in range(next_words):#verilen kelimeden sonraki kelimeyi tahmin etmek için\n",
        "        token_list = tokenizer.texts_to_sequences([seed_text])[0]\n",
        "        token_list = pad_sequences([token_list], maxlen=max_sequence_len-1, padding='pre')\n",
        "        predicted = model.predict(token_list, verbose=0)        \n",
        "        predicted=np.argmax(predicted,axis=1)\n",
        "        \n",
        "        output_word = \"\"\n",
        "        for word,index in tokenizer.word_index.items():\n",
        "            if index == predicted:\n",
        "                output_word = word\n",
        "                break\n",
        "        seed_text += \" \"+output_word\n",
        "    return seed_text.title()\n",
        "#test kısmında , kelime verilir ve sonrasında 5 yada 4 tane kelime üretmesi istenir.\n",
        "print (generate_text(\"united states\", 5, model, max_sequence_len))\n",
        "print (generate_text(\"president trump\", 4, model, max_sequence_len))\n",
        "print (generate_text(\"donald trump\", 4, model, max_sequence_len))\n",
        "print (generate_text(\"india and china\", 4, model, max_sequence_len))\n",
        "print (generate_text(\"new york\", 4, model, max_sequence_len))\n",
        "print (generate_text(\"science and technology\", 5, model, max_sequence_len))    "
      ]
    },
    {
      "cell_type": "code",
      "execution_count": null,
      "metadata": {
        "id": "8tjRzpqGHRdE"
      },
      "outputs": [],
      "source": [
        ""
      ]
    }
  ],
  "metadata": {
    "colab": {
      "name": "TextGenerationModel-Hilal Öztemel .ipynb adlı dosyanın kopyası",
      "provenance": [],
      "collapsed_sections": [],
      "authorship_tag": "ABX9TyPENhJn4JbzqS2Fsd8pa3P5",
      "include_colab_link": true
    },
    "kernelspec": {
      "display_name": "Python 3",
      "name": "python3"
    },
    "language_info": {
      "name": "python"
    }
  },
  "nbformat": 4,
  "nbformat_minor": 0
}